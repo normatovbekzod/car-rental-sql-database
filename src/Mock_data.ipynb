{
 "cells": [
  {
   "cell_type": "code",
   "execution_count": 2,
   "id": "a0b2e436",
   "metadata": {},
   "outputs": [],
   "source": [
    "import pandas as pd\n",
    "import random \n",
    "import string\n",
    "import datetime\n",
    "import numpy as np"
   ]
  },
  {
   "cell_type": "code",
   "execution_count": 8,
   "id": "e0b5cb6c",
   "metadata": {},
   "outputs": [],
   "source": [
    "def generate_registration_number():\n",
    "    return ''.join(random.choices(string.ascii_uppercase + string.digits, k=6))\n",
    "\n",
    "registration_numbers = [generate_registration_number() for _ in range(1000)]"
   ]
  },
  {
   "cell_type": "code",
   "execution_count": 5,
   "id": "473dcc49",
   "metadata": {},
   "outputs": [],
   "source": [
    "rows = 1000\n",
    "columns = 10\n",
    "\n",
    "df = pd.DataFrame(index=range(rows), columns=range(columns))"
   ]
  },
  {
   "cell_type": "code",
   "execution_count": 9,
   "id": "bc3a4954",
   "metadata": {},
   "outputs": [],
   "source": [
    "df.columns = ['Registration_number', 'Model', \"Make\", 'Engine_size', 'Capacity', 'Current_mileage', 'Date_MOT_due', 'Daily_hire_rate', 'Vehicle_status', 'Outlet_number']"
   ]
  },
  {
   "cell_type": "code",
   "execution_count": 11,
   "id": "9661c5b3",
   "metadata": {},
   "outputs": [],
   "source": [
    "df.Registration_number = registration_numbers"
   ]
  },
  {
   "cell_type": "code",
   "execution_count": 14,
   "id": "cd84bb5a",
   "metadata": {},
   "outputs": [],
   "source": [
    "df.Engine_size = [random.uniform(0.5, 3.5) for _ in range(1000)]"
   ]
  },
  {
   "cell_type": "code",
   "execution_count": 15,
   "id": "1eebfbd0",
   "metadata": {},
   "outputs": [],
   "source": [
    "df.Capacity = [random.randint(2, 7) for _ in range(1000)]"
   ]
  },
  {
   "cell_type": "code",
   "execution_count": 16,
   "id": "46c9cc58",
   "metadata": {},
   "outputs": [],
   "source": [
    "df.Current_mileage = [random.randint(0, 100000) for _ in range(1000)]"
   ]
  },
  {
   "cell_type": "code",
   "execution_count": 19,
   "id": "83847783",
   "metadata": {},
   "outputs": [],
   "source": [
    "start = datetime.datetime(2023, 2, 11)\n",
    "end = datetime.datetime(2024, 2, 10)"
   ]
  },
  {
   "cell_type": "code",
   "execution_count": 21,
   "id": "bae1b2ef",
   "metadata": {},
   "outputs": [],
   "source": [
    "df.Date_MOT_due = [start + datetime.timedelta(days=random.randint(0, 365)) for _ in range(1000)]"
   ]
  },
  {
   "cell_type": "code",
   "execution_count": 23,
   "id": "e7a80830",
   "metadata": {},
   "outputs": [],
   "source": [
    "status = [\"available\", \"reserved\"]\n",
    "\n",
    "df.Vehicle_status = [random.choice(status) for _ in range(1000)]"
   ]
  },
  {
   "cell_type": "code",
   "execution_count": 27,
   "id": "b3709d5d",
   "metadata": {},
   "outputs": [],
   "source": [
    "cars = pd.read_csv('https://raw.githubusercontent.com/abhionlyone/us-car-models-data/master/2020.csv')"
   ]
  },
  {
   "cell_type": "code",
   "execution_count": 34,
   "id": "00dbc8d7",
   "metadata": {},
   "outputs": [],
   "source": [
    "list_cars = list(cars.make + ',' + cars.model)"
   ]
  },
  {
   "cell_type": "code",
   "execution_count": 51,
   "id": "9b3d4559",
   "metadata": {},
   "outputs": [],
   "source": [
    "make_model = np.array([random.choice(list_cars) for _ in range(1000)])"
   ]
  },
  {
   "cell_type": "code",
   "execution_count": 52,
   "id": "e6653a95",
   "metadata": {},
   "outputs": [],
   "source": [
    "make=[]\n",
    "model = []\n",
    "for car in make_model:\n",
    "    make.append(car.split(',')[0])\n",
    "    model.append(car.split(',')[1])"
   ]
  },
  {
   "cell_type": "code",
   "execution_count": 56,
   "id": "b1892145",
   "metadata": {},
   "outputs": [],
   "source": [
    "df.Make = make\n",
    "df.Model = model"
   ]
  },
  {
   "cell_type": "code",
   "execution_count": 58,
   "id": "7da1e68e",
   "metadata": {},
   "outputs": [],
   "source": [
    "df.Daily_hire_rate = [random.randint(200, 2000) for _ in range(1000)]"
   ]
  },
  {
   "cell_type": "code",
   "execution_count": null,
   "id": "f80aa3e9",
   "metadata": {},
   "outputs": [],
   "source": [
    "df.Registration_number.duplicated().any()"
   ]
  },
  {
   "cell_type": "code",
   "execution_count": 61,
   "id": "5efad745",
   "metadata": {},
   "outputs": [],
   "source": [
    "df.to_csv('cars.csv', index = False)"
   ]
  },
  {
   "cell_type": "markdown",
   "id": "d464195e",
   "metadata": {},
   "source": [
    "Vans"
   ]
  },
  {
   "cell_type": "code",
   "execution_count": 72,
   "id": "a40315c2",
   "metadata": {},
   "outputs": [],
   "source": [
    "rows = 500\n",
    "columns = 10\n",
    "\n",
    "dfv = pd.DataFrame(index=range(rows), columns=range(columns))\n",
    "dfv.columns = ['Registration_number', 'Model', \"Make\", 'Engine_size', 'Capacity', 'Current_mileage', 'Date_MOT_due', 'Daily_hire_rate', 'Vehicle_status', 'Outlet_number']"
   ]
  },
  {
   "cell_type": "code",
   "execution_count": 76,
   "id": "56bca237",
   "metadata": {},
   "outputs": [],
   "source": [
    "dfv.Registration_number = [generate_registration_number() for _ in range(500)]\n",
    "dfv.Engine_size = [random.uniform(1, 4) for _ in range(500)]\n",
    "dfv.Capacity = [random.randint(2, 4) for _ in range(500)]\n",
    "dfv.Current_mileage = [random.randint(0, 100000) for _ in range(500)]\n",
    "dfv.Date_MOT_due = [start + datetime.timedelta(days=random.randint(0, 365)) for _ in range(500)]\n",
    "dfv.Vehicle_status = [random.choice(status) for _ in range(500)]\n",
    "dfv.Daily_hire_rate = [random.randint(500, 1500) for _ in range(500)]"
   ]
  },
  {
   "cell_type": "code",
   "execution_count": 77,
   "id": "1cfc1028",
   "metadata": {},
   "outputs": [],
   "source": [
    "make_model = np.array([random.choice(list_cars) for _ in range(500)])\n",
    "make=[]\n",
    "model = []\n",
    "for car in make_model:\n",
    "    make.append(car.split(',')[0])\n",
    "    model.append(car.split(',')[1])\n",
    "dfv.Make = make\n",
    "dfv.Model = model"
   ]
  },
  {
   "cell_type": "code",
   "execution_count": 79,
   "id": "e7535295",
   "metadata": {},
   "outputs": [],
   "source": [
    "dfv.to_csv('vans.csv', index = False)"
   ]
  },
  {
   "cell_type": "markdown",
   "id": "20ee318a",
   "metadata": {},
   "source": [
    "Fault report"
   ]
  },
  {
   "cell_type": "code",
   "execution_count": 83,
   "id": "4df9f499",
   "metadata": {},
   "outputs": [],
   "source": [
    "reg_nums = list(df.Registration_number) + list(dfv.Registration_number)"
   ]
  },
  {
   "cell_type": "code",
   "execution_count": 86,
   "id": "0c20d3a5",
   "metadata": {},
   "outputs": [],
   "source": [
    "rows = 500\n",
    "columns = 5\n",
    "dff = pd.DataFrame(index=range(rows), columns=range(columns))\n",
    "dff.columns = ['Report_number', 'Registration_number', 'Staff_number', 'Check_date', 'Faults']"
   ]
  },
  {
   "cell_type": "code",
   "execution_count": 88,
   "id": "d65cb09a",
   "metadata": {},
   "outputs": [],
   "source": [
    "dff.Registration_number = [random.choice(reg_nums) for _ in range(500)]"
   ]
  },
  {
   "cell_type": "code",
   "execution_count": 89,
   "id": "71e132aa",
   "metadata": {},
   "outputs": [],
   "source": [
    "def generate_report_number():\n",
    "    return ''.join(random.choices(string.ascii_letters + string.digits, k=5))"
   ]
  },
  {
   "cell_type": "code",
   "execution_count": 90,
   "id": "9508b15e",
   "metadata": {},
   "outputs": [],
   "source": [
    "dff.Report_number = [generate_report_number() for _ in range(500)]"
   ]
  },
  {
   "cell_type": "code",
   "execution_count": 93,
   "id": "8ab7e153",
   "metadata": {},
   "outputs": [],
   "source": [
    "start = datetime.datetime(2017, 2, 11)\n",
    "end = datetime.datetime(2023, 2, 10)\n",
    "dff.Check_date = [start + datetime.timedelta(days=random.randint(0, 365)) for _ in range(500)]"
   ]
  },
  {
   "cell_type": "code",
   "execution_count": 95,
   "id": "e200f99d",
   "metadata": {},
   "outputs": [],
   "source": [
    "fault = ['yes', 'no']\n",
    "dff.Faults = [random.choice(fault) for _ in range(500)]"
   ]
  },
  {
   "cell_type": "code",
   "execution_count": 98,
   "id": "d3c8d505",
   "metadata": {},
   "outputs": [],
   "source": [
    "dff.to_csv('fault_reports.csv', index = False)"
   ]
  },
  {
   "cell_type": "markdown",
   "id": "ff614335",
   "metadata": {},
   "source": [
    "Updating fault reports and vehicles"
   ]
  },
  {
   "cell_type": "code",
   "execution_count": 16,
   "id": "262f3c5f",
   "metadata": {},
   "outputs": [],
   "source": [
    "dfstaff = pd.read_csv('staff.csv')\n",
    "dffault = pd.read_csv('fault_reports.csv')"
   ]
  },
  {
   "cell_type": "code",
   "execution_count": 17,
   "id": "8e92c7b0",
   "metadata": {},
   "outputs": [
    {
     "data": {
      "text/html": [
       "<div>\n",
       "<style scoped>\n",
       "    .dataframe tbody tr th:only-of-type {\n",
       "        vertical-align: middle;\n",
       "    }\n",
       "\n",
       "    .dataframe tbody tr th {\n",
       "        vertical-align: top;\n",
       "    }\n",
       "\n",
       "    .dataframe thead th {\n",
       "        text-align: right;\n",
       "    }\n",
       "</style>\n",
       "<table border=\"1\" class=\"dataframe\">\n",
       "  <thead>\n",
       "    <tr style=\"text-align: right;\">\n",
       "      <th></th>\n",
       "      <th>Report_number</th>\n",
       "      <th>Registration_number</th>\n",
       "      <th>Staff_number</th>\n",
       "      <th>Check_date</th>\n",
       "      <th>Faults</th>\n",
       "    </tr>\n",
       "  </thead>\n",
       "  <tbody>\n",
       "    <tr>\n",
       "      <th>0</th>\n",
       "      <td>QdJZM</td>\n",
       "      <td>I4ES6L2</td>\n",
       "      <td>NaN</td>\n",
       "      <td>2017-06-01</td>\n",
       "      <td>no</td>\n",
       "    </tr>\n",
       "    <tr>\n",
       "      <th>1</th>\n",
       "      <td>36AYj</td>\n",
       "      <td>G8TZ87N</td>\n",
       "      <td>NaN</td>\n",
       "      <td>2017-10-23</td>\n",
       "      <td>no</td>\n",
       "    </tr>\n",
       "    <tr>\n",
       "      <th>2</th>\n",
       "      <td>bOoN3</td>\n",
       "      <td>XMC468V</td>\n",
       "      <td>NaN</td>\n",
       "      <td>2017-07-18</td>\n",
       "      <td>no</td>\n",
       "    </tr>\n",
       "    <tr>\n",
       "      <th>3</th>\n",
       "      <td>JwUzQ</td>\n",
       "      <td>K83JSVS</td>\n",
       "      <td>NaN</td>\n",
       "      <td>2017-10-08</td>\n",
       "      <td>no</td>\n",
       "    </tr>\n",
       "    <tr>\n",
       "      <th>4</th>\n",
       "      <td>VCpUl</td>\n",
       "      <td>N8P54EH</td>\n",
       "      <td>NaN</td>\n",
       "      <td>2017-11-29</td>\n",
       "      <td>no</td>\n",
       "    </tr>\n",
       "    <tr>\n",
       "      <th>...</th>\n",
       "      <td>...</td>\n",
       "      <td>...</td>\n",
       "      <td>...</td>\n",
       "      <td>...</td>\n",
       "      <td>...</td>\n",
       "    </tr>\n",
       "    <tr>\n",
       "      <th>495</th>\n",
       "      <td>V8PvZ</td>\n",
       "      <td>QDNE41O</td>\n",
       "      <td>NaN</td>\n",
       "      <td>2017-10-26</td>\n",
       "      <td>no</td>\n",
       "    </tr>\n",
       "    <tr>\n",
       "      <th>496</th>\n",
       "      <td>DhSpb</td>\n",
       "      <td>AY5EZXA</td>\n",
       "      <td>NaN</td>\n",
       "      <td>2017-07-04</td>\n",
       "      <td>no</td>\n",
       "    </tr>\n",
       "    <tr>\n",
       "      <th>497</th>\n",
       "      <td>2zxeh</td>\n",
       "      <td>MBU2J3W</td>\n",
       "      <td>NaN</td>\n",
       "      <td>2017-11-20</td>\n",
       "      <td>yes</td>\n",
       "    </tr>\n",
       "    <tr>\n",
       "      <th>498</th>\n",
       "      <td>dGlML</td>\n",
       "      <td>U2FTADO</td>\n",
       "      <td>NaN</td>\n",
       "      <td>2017-07-12</td>\n",
       "      <td>yes</td>\n",
       "    </tr>\n",
       "    <tr>\n",
       "      <th>499</th>\n",
       "      <td>qYXgH</td>\n",
       "      <td>IKOFA66</td>\n",
       "      <td>NaN</td>\n",
       "      <td>2017-06-07</td>\n",
       "      <td>yes</td>\n",
       "    </tr>\n",
       "  </tbody>\n",
       "</table>\n",
       "<p>500 rows × 5 columns</p>\n",
       "</div>"
      ],
      "text/plain": [
       "    Report_number Registration_number  Staff_number  Check_date Faults\n",
       "0           QdJZM             I4ES6L2           NaN  2017-06-01     no\n",
       "1           36AYj             G8TZ87N           NaN  2017-10-23     no\n",
       "2           bOoN3             XMC468V           NaN  2017-07-18     no\n",
       "3           JwUzQ             K83JSVS           NaN  2017-10-08     no\n",
       "4           VCpUl             N8P54EH           NaN  2017-11-29     no\n",
       "..            ...                 ...           ...         ...    ...\n",
       "495         V8PvZ             QDNE41O           NaN  2017-10-26     no\n",
       "496         DhSpb             AY5EZXA           NaN  2017-07-04     no\n",
       "497         2zxeh             MBU2J3W           NaN  2017-11-20    yes\n",
       "498         dGlML             U2FTADO           NaN  2017-07-12    yes\n",
       "499         qYXgH             IKOFA66           NaN  2017-06-07    yes\n",
       "\n",
       "[500 rows x 5 columns]"
      ]
     },
     "execution_count": 17,
     "metadata": {},
     "output_type": "execute_result"
    }
   ],
   "source": [
    "dffault"
   ]
  },
  {
   "cell_type": "code",
   "execution_count": 18,
   "id": "4ad94b0e",
   "metadata": {},
   "outputs": [],
   "source": [
    "staff_no = dfstaff['staff number'].values"
   ]
  },
  {
   "cell_type": "code",
   "execution_count": 21,
   "id": "7f04051f",
   "metadata": {},
   "outputs": [],
   "source": [
    "dffault.Staff_number = [random.choice(staff_no) for _ in range(500)]"
   ]
  },
  {
   "cell_type": "code",
   "execution_count": 23,
   "id": "b43ed346",
   "metadata": {},
   "outputs": [],
   "source": [
    "dffault.to_csv('fault_reports.csv', index = False)"
   ]
  },
  {
   "cell_type": "markdown",
   "id": "6d6f288c",
   "metadata": {},
   "source": [
    "Fixing tables"
   ]
  },
  {
   "cell_type": "code",
   "execution_count": 4,
   "id": "09bffbee",
   "metadata": {},
   "outputs": [],
   "source": [
    "dfv = pd.read_csv('cars.csv')"
   ]
  },
  {
   "cell_type": "code",
   "execution_count": 6,
   "id": "672e0325",
   "metadata": {},
   "outputs": [],
   "source": [
    "dfv.EngineSize = [random.randint(1, 4) for _ in range(1000)]"
   ]
  },
  {
   "cell_type": "code",
   "execution_count": 20,
   "id": "8f9a9138",
   "metadata": {},
   "outputs": [
    {
     "data": {
      "text/html": [
       "<div>\n",
       "<style scoped>\n",
       "    .dataframe tbody tr th:only-of-type {\n",
       "        vertical-align: middle;\n",
       "    }\n",
       "\n",
       "    .dataframe tbody tr th {\n",
       "        vertical-align: top;\n",
       "    }\n",
       "\n",
       "    .dataframe thead th {\n",
       "        text-align: right;\n",
       "    }\n",
       "</style>\n",
       "<table border=\"1\" class=\"dataframe\">\n",
       "  <thead>\n",
       "    <tr style=\"text-align: right;\">\n",
       "      <th></th>\n",
       "      <th>RegistrationNumber</th>\n",
       "      <th>Model</th>\n",
       "      <th>Make</th>\n",
       "      <th>EngineSize</th>\n",
       "      <th>Capacity</th>\n",
       "      <th>CurrentMileage</th>\n",
       "      <th>DateMOTDue</th>\n",
       "      <th>DailyHireRate</th>\n",
       "      <th>VehicleStatus</th>\n",
       "      <th>OutletNumber</th>\n",
       "      <th>Type</th>\n",
       "      <th>TimesReserved</th>\n",
       "    </tr>\n",
       "  </thead>\n",
       "  <tbody>\n",
       "    <tr>\n",
       "      <th>0</th>\n",
       "      <td>L4WPCB</td>\n",
       "      <td>Clubman</td>\n",
       "      <td>MINI</td>\n",
       "      <td>3</td>\n",
       "      <td>3</td>\n",
       "      <td>22366</td>\n",
       "      <td>2023-02-24</td>\n",
       "      <td>251</td>\n",
       "      <td>available</td>\n",
       "      <td>63</td>\n",
       "      <td>Van</td>\n",
       "      <td>8</td>\n",
       "    </tr>\n",
       "    <tr>\n",
       "      <th>1</th>\n",
       "      <td>TZSOO1</td>\n",
       "      <td>F250 Super Duty Crew Cab</td>\n",
       "      <td>Ford</td>\n",
       "      <td>4</td>\n",
       "      <td>6</td>\n",
       "      <td>18039</td>\n",
       "      <td>2023-05-22</td>\n",
       "      <td>1044</td>\n",
       "      <td>available</td>\n",
       "      <td>69</td>\n",
       "      <td>Car</td>\n",
       "      <td>5</td>\n",
       "    </tr>\n",
       "    <tr>\n",
       "      <th>2</th>\n",
       "      <td>CNNMZ1</td>\n",
       "      <td>Navigator</td>\n",
       "      <td>Lincoln</td>\n",
       "      <td>1</td>\n",
       "      <td>7</td>\n",
       "      <td>10707</td>\n",
       "      <td>2023-08-03</td>\n",
       "      <td>789</td>\n",
       "      <td>available</td>\n",
       "      <td>10</td>\n",
       "      <td>Van</td>\n",
       "      <td>3</td>\n",
       "    </tr>\n",
       "    <tr>\n",
       "      <th>3</th>\n",
       "      <td>HIYRPM</td>\n",
       "      <td>Kona</td>\n",
       "      <td>Hyundai</td>\n",
       "      <td>4</td>\n",
       "      <td>3</td>\n",
       "      <td>69143</td>\n",
       "      <td>2023-10-17</td>\n",
       "      <td>657</td>\n",
       "      <td>reserved</td>\n",
       "      <td>52</td>\n",
       "      <td>Van</td>\n",
       "      <td>2</td>\n",
       "    </tr>\n",
       "    <tr>\n",
       "      <th>4</th>\n",
       "      <td>K1LLG8</td>\n",
       "      <td>Forte</td>\n",
       "      <td>Kia</td>\n",
       "      <td>1</td>\n",
       "      <td>2</td>\n",
       "      <td>26840</td>\n",
       "      <td>2023-10-02</td>\n",
       "      <td>455</td>\n",
       "      <td>available</td>\n",
       "      <td>70</td>\n",
       "      <td>Van</td>\n",
       "      <td>2</td>\n",
       "    </tr>\n",
       "    <tr>\n",
       "      <th>...</th>\n",
       "      <td>...</td>\n",
       "      <td>...</td>\n",
       "      <td>...</td>\n",
       "      <td>...</td>\n",
       "      <td>...</td>\n",
       "      <td>...</td>\n",
       "      <td>...</td>\n",
       "      <td>...</td>\n",
       "      <td>...</td>\n",
       "      <td>...</td>\n",
       "      <td>...</td>\n",
       "      <td>...</td>\n",
       "    </tr>\n",
       "    <tr>\n",
       "      <th>995</th>\n",
       "      <td>ZOJ81W</td>\n",
       "      <td>X3 M</td>\n",
       "      <td>BMW</td>\n",
       "      <td>2</td>\n",
       "      <td>5</td>\n",
       "      <td>83093</td>\n",
       "      <td>2023-12-11</td>\n",
       "      <td>1913</td>\n",
       "      <td>available</td>\n",
       "      <td>34</td>\n",
       "      <td>Car</td>\n",
       "      <td>6</td>\n",
       "    </tr>\n",
       "    <tr>\n",
       "      <th>996</th>\n",
       "      <td>GD82HE</td>\n",
       "      <td>SQ5</td>\n",
       "      <td>Audi</td>\n",
       "      <td>4</td>\n",
       "      <td>2</td>\n",
       "      <td>97004</td>\n",
       "      <td>2023-07-10</td>\n",
       "      <td>259</td>\n",
       "      <td>reserved</td>\n",
       "      <td>4</td>\n",
       "      <td>Van</td>\n",
       "      <td>6</td>\n",
       "    </tr>\n",
       "    <tr>\n",
       "      <th>997</th>\n",
       "      <td>Y0ZSHJ</td>\n",
       "      <td>XC40</td>\n",
       "      <td>Volvo</td>\n",
       "      <td>2</td>\n",
       "      <td>7</td>\n",
       "      <td>42706</td>\n",
       "      <td>2023-03-14</td>\n",
       "      <td>202</td>\n",
       "      <td>reserved</td>\n",
       "      <td>9</td>\n",
       "      <td>Car</td>\n",
       "      <td>5</td>\n",
       "    </tr>\n",
       "    <tr>\n",
       "      <th>998</th>\n",
       "      <td>F8RVHJ</td>\n",
       "      <td>CLS</td>\n",
       "      <td>Mercedes-Benz</td>\n",
       "      <td>1</td>\n",
       "      <td>5</td>\n",
       "      <td>49216</td>\n",
       "      <td>2023-08-12</td>\n",
       "      <td>1478</td>\n",
       "      <td>reserved</td>\n",
       "      <td>39</td>\n",
       "      <td>Van</td>\n",
       "      <td>8</td>\n",
       "    </tr>\n",
       "    <tr>\n",
       "      <th>999</th>\n",
       "      <td>EOXZ9I</td>\n",
       "      <td>NEXO</td>\n",
       "      <td>Hyundai</td>\n",
       "      <td>2</td>\n",
       "      <td>3</td>\n",
       "      <td>20734</td>\n",
       "      <td>2023-05-10</td>\n",
       "      <td>1812</td>\n",
       "      <td>reserved</td>\n",
       "      <td>58</td>\n",
       "      <td>Car</td>\n",
       "      <td>9</td>\n",
       "    </tr>\n",
       "  </tbody>\n",
       "</table>\n",
       "<p>1000 rows × 12 columns</p>\n",
       "</div>"
      ],
      "text/plain": [
       "    RegistrationNumber                     Model           Make  EngineSize  \\\n",
       "0               L4WPCB                   Clubman           MINI           3   \n",
       "1               TZSOO1  F250 Super Duty Crew Cab           Ford           4   \n",
       "2               CNNMZ1                 Navigator        Lincoln           1   \n",
       "3               HIYRPM                      Kona        Hyundai           4   \n",
       "4               K1LLG8                     Forte            Kia           1   \n",
       "..                 ...                       ...            ...         ...   \n",
       "995             ZOJ81W                      X3 M            BMW           2   \n",
       "996             GD82HE                       SQ5           Audi           4   \n",
       "997             Y0ZSHJ                      XC40          Volvo           2   \n",
       "998             F8RVHJ                       CLS  Mercedes-Benz           1   \n",
       "999             EOXZ9I                      NEXO        Hyundai           2   \n",
       "\n",
       "     Capacity  CurrentMileage  DateMOTDue  DailyHireRate VehicleStatus  \\\n",
       "0           3           22366  2023-02-24            251     available   \n",
       "1           6           18039  2023-05-22           1044     available   \n",
       "2           7           10707  2023-08-03            789     available   \n",
       "3           3           69143  2023-10-17            657      reserved   \n",
       "4           2           26840  2023-10-02            455     available   \n",
       "..        ...             ...         ...            ...           ...   \n",
       "995         5           83093  2023-12-11           1913     available   \n",
       "996         2           97004  2023-07-10            259      reserved   \n",
       "997         7           42706  2023-03-14            202      reserved   \n",
       "998         5           49216  2023-08-12           1478      reserved   \n",
       "999         3           20734  2023-05-10           1812      reserved   \n",
       "\n",
       "     OutletNumber Type  TimesReserved  \n",
       "0              63  Van              8  \n",
       "1              69  Car              5  \n",
       "2              10  Van              3  \n",
       "3              52  Van              2  \n",
       "4              70  Van              2  \n",
       "..            ...  ...            ...  \n",
       "995            34  Car              6  \n",
       "996             4  Van              6  \n",
       "997             9  Car              5  \n",
       "998            39  Van              8  \n",
       "999            58  Car              9  \n",
       "\n",
       "[1000 rows x 12 columns]"
      ]
     },
     "execution_count": 20,
     "metadata": {},
     "output_type": "execute_result"
    }
   ],
   "source": [
    "dfv"
   ]
  },
  {
   "cell_type": "code",
   "execution_count": 9,
   "id": "70789e6c",
   "metadata": {},
   "outputs": [],
   "source": [
    "dfv.RegistrationNumber = registration_numbers"
   ]
  },
  {
   "cell_type": "code",
   "execution_count": 13,
   "id": "2d3252ed",
   "metadata": {},
   "outputs": [],
   "source": [
    "dfv.OutletNumber = [random.randint(1, 70) for _ in range(1000)]"
   ]
  },
  {
   "cell_type": "code",
   "execution_count": 15,
   "id": "12abd685",
   "metadata": {},
   "outputs": [],
   "source": [
    "dfv.Type = [random.choice(['Car', 'Van']) for _ in range(1000)]"
   ]
  },
  {
   "cell_type": "code",
   "execution_count": 17,
   "id": "fb68a436",
   "metadata": {},
   "outputs": [],
   "source": [
    "dfv['TimesReserved'] = [random.randint(0, 10) for _ in range(1000)]"
   ]
  },
  {
   "cell_type": "code",
   "execution_count": 21,
   "id": "f7fb71ad",
   "metadata": {},
   "outputs": [],
   "source": [
    "dfv['VehicleStatus'] = [random.randint(0, 1) for _ in range(1000)]"
   ]
  },
  {
   "cell_type": "code",
   "execution_count": 22,
   "id": "4cb7db52",
   "metadata": {},
   "outputs": [],
   "source": [
    "dfv.to_csv('Vehicles.csv', index = False)"
   ]
  },
  {
   "cell_type": "markdown",
   "id": "885a5a64",
   "metadata": {},
   "source": [
    "Fault Reports"
   ]
  },
  {
   "cell_type": "code",
   "execution_count": 57,
   "id": "d97bdecf",
   "metadata": {},
   "outputs": [],
   "source": [
    "dff = pd.read_csv('Faults.csv')"
   ]
  },
  {
   "cell_type": "code",
   "execution_count": 26,
   "id": "04c587fe",
   "metadata": {},
   "outputs": [],
   "source": [
    "dff.ReportNumber = np.linspace(1, 500, 500)"
   ]
  },
  {
   "cell_type": "code",
   "execution_count": 29,
   "id": "f94a8f9c",
   "metadata": {},
   "outputs": [],
   "source": [
    "dff.ReportNumber = dff.ReportNumber.astype(int)"
   ]
  },
  {
   "cell_type": "code",
   "execution_count": 31,
   "id": "2d22ea4a",
   "metadata": {},
   "outputs": [],
   "source": [
    "dff.VehicleRegistrationNumber = [random.choice(registration_numbers) for _ in range(500)]"
   ]
  },
  {
   "cell_type": "code",
   "execution_count": 34,
   "id": "44f78b71",
   "metadata": {},
   "outputs": [],
   "source": [
    "dff['IsFaulty(1,0)'] = [random.randint(0,1) for _ in range(500)]"
   ]
  },
  {
   "cell_type": "code",
   "execution_count": 36,
   "id": "30d017bd",
   "metadata": {},
   "outputs": [],
   "source": [
    "dff.StaffNumber = [random.randint(1,350) for _ in range(500)]"
   ]
  },
  {
   "cell_type": "code",
   "execution_count": 60,
   "id": "1500c4f1",
   "metadata": {},
   "outputs": [],
   "source": [
    "dff['HireNumber'] = hirenumfault"
   ]
  },
  {
   "cell_type": "code",
   "execution_count": 62,
   "id": "aacf2f64",
   "metadata": {},
   "outputs": [],
   "source": [
    "dff.to_csv('Faults.csv', index=False)"
   ]
  },
  {
   "cell_type": "markdown",
   "id": "170c658d",
   "metadata": {},
   "source": [
    "Hire"
   ]
  },
  {
   "cell_type": "code",
   "execution_count": 18,
   "id": "7bb67ef0",
   "metadata": {},
   "outputs": [],
   "source": [
    "dfh = pd.read_csv('Hires.csv')"
   ]
  },
  {
   "cell_type": "code",
   "execution_count": 43,
   "id": "9f86404b",
   "metadata": {},
   "outputs": [],
   "source": [
    "hirenum = dfh.HireNumber.values"
   ]
  },
  {
   "cell_type": "code",
   "execution_count": 49,
   "id": "17e0c0ce",
   "metadata": {},
   "outputs": [],
   "source": [
    "hirenumfault = random.sample(list(hirenum), 500)"
   ]
  },
  {
   "cell_type": "code",
   "execution_count": 52,
   "id": "c365fddf",
   "metadata": {},
   "outputs": [
    {
     "data": {
      "text/plain": [
       "500"
      ]
     },
     "execution_count": 52,
     "metadata": {},
     "output_type": "execute_result"
    }
   ],
   "source": [
    "len(hirenumfault)"
   ]
  },
  {
   "cell_type": "code",
   "execution_count": 64,
   "id": "d6696872",
   "metadata": {},
   "outputs": [],
   "source": [
    "dfh.VehicleRegistrationNumber = [random.choice(registration_numbers) for _ in range(600)]"
   ]
  },
  {
   "cell_type": "code",
   "execution_count": 66,
   "id": "67e70b29",
   "metadata": {},
   "outputs": [],
   "source": [
    "dfh.StaffNumber = [random.randint(1,350) for _ in range(600)]"
   ]
  },
  {
   "cell_type": "code",
   "execution_count": 67,
   "id": "4fac6dde",
   "metadata": {},
   "outputs": [],
   "source": [
    "dfh.to_csv('Hires.csv', index = False)"
   ]
  },
  {
   "cell_type": "markdown",
   "id": "4197d062",
   "metadata": {},
   "source": [
    "## Fixing Clients"
   ]
  },
  {
   "cell_type": "code",
   "execution_count": 7,
   "id": "d80348e8",
   "metadata": {},
   "outputs": [],
   "source": [
    "dfp = pd.read_csv('personalclient.csv')"
   ]
  },
  {
   "cell_type": "code",
   "execution_count": 4,
   "id": "176d61ef",
   "metadata": {},
   "outputs": [],
   "source": [
    "dfb = pd.read_csv('Businessclient.csv')"
   ]
  },
  {
   "cell_type": "code",
   "execution_count": 5,
   "id": "13180759",
   "metadata": {},
   "outputs": [
    {
     "data": {
      "text/html": [
       "<div>\n",
       "<style scoped>\n",
       "    .dataframe tbody tr th:only-of-type {\n",
       "        vertical-align: middle;\n",
       "    }\n",
       "\n",
       "    .dataframe tbody tr th {\n",
       "        vertical-align: top;\n",
       "    }\n",
       "\n",
       "    .dataframe thead th {\n",
       "        text-align: right;\n",
       "    }\n",
       "</style>\n",
       "<table border=\"1\" class=\"dataframe\">\n",
       "  <thead>\n",
       "    <tr style=\"text-align: right;\">\n",
       "      <th></th>\n",
       "      <th>Client.Number</th>\n",
       "      <th>Name.of.business</th>\n",
       "      <th>Type.of.Business</th>\n",
       "      <th>Address</th>\n",
       "      <th>phone</th>\n",
       "      <th>fax</th>\n",
       "    </tr>\n",
       "  </thead>\n",
       "  <tbody>\n",
       "    <tr>\n",
       "      <th>0</th>\n",
       "      <td>2947789641</td>\n",
       "      <td>Expotrans Srl</td>\n",
       "      <td>Distributor</td>\n",
       "      <td>Abbey Drive  G14 9JP</td>\n",
       "      <td>87843596</td>\n",
       "      <td>8706576</td>\n",
       "    </tr>\n",
       "    <tr>\n",
       "      <th>1</th>\n",
       "      <td>2947790097</td>\n",
       "      <td>Future Electronics Inc (Distribution) Pte Ltd</td>\n",
       "      <td>Distributor</td>\n",
       "      <td>Abbeycraig Road  G34 0DN</td>\n",
       "      <td>83631690</td>\n",
       "      <td>8629230</td>\n",
       "    </tr>\n",
       "    <tr>\n",
       "      <th>2</th>\n",
       "      <td>8483378396</td>\n",
       "      <td>Frontline Distribution &amp; Services Company</td>\n",
       "      <td>Distributor</td>\n",
       "      <td>Abbeygreen Street  G34 0JH</td>\n",
       "      <td>80206596</td>\n",
       "      <td>8905382</td>\n",
       "    </tr>\n",
       "    <tr>\n",
       "      <th>3</th>\n",
       "      <td>280670842</td>\n",
       "      <td>FFW Distribution Company</td>\n",
       "      <td>Distributor</td>\n",
       "      <td>Abbeyhill Street  G32 6HP</td>\n",
       "      <td>86426524</td>\n",
       "      <td>8615848</td>\n",
       "    </tr>\n",
       "    <tr>\n",
       "      <th>4</th>\n",
       "      <td>6895927485</td>\n",
       "      <td>G Q Distributors</td>\n",
       "      <td>Distributor</td>\n",
       "      <td>Abbot Street  G41 3XE</td>\n",
       "      <td>85405106</td>\n",
       "      <td>8722470</td>\n",
       "    </tr>\n",
       "    <tr>\n",
       "      <th>...</th>\n",
       "      <td>...</td>\n",
       "      <td>...</td>\n",
       "      <td>...</td>\n",
       "      <td>...</td>\n",
       "      <td>...</td>\n",
       "      <td>...</td>\n",
       "    </tr>\n",
       "    <tr>\n",
       "      <th>158</th>\n",
       "      <td>9787421007</td>\n",
       "      <td>Powermatic Distribution Pte Ltd</td>\n",
       "      <td>Distributor</td>\n",
       "      <td>Barshaw Court  G52 4DX</td>\n",
       "      <td>85708595</td>\n",
       "      <td>8139685</td>\n",
       "    </tr>\n",
       "    <tr>\n",
       "      <th>159</th>\n",
       "      <td>9373790709</td>\n",
       "      <td>SENKO</td>\n",
       "      <td>Distributor</td>\n",
       "      <td>Bassett Crescent  G13 3JS</td>\n",
       "      <td>80387859</td>\n",
       "      <td>8322663</td>\n",
       "    </tr>\n",
       "    <tr>\n",
       "      <th>160</th>\n",
       "      <td>5851010535</td>\n",
       "      <td>Rapid-Tech Distribution Pte Ltd</td>\n",
       "      <td>Distributor</td>\n",
       "      <td>Battles Burn View  G32 8HP</td>\n",
       "      <td>80166498</td>\n",
       "      <td>8417144</td>\n",
       "    </tr>\n",
       "    <tr>\n",
       "      <th>161</th>\n",
       "      <td>4037644740</td>\n",
       "      <td>Quickmail Distribution Pte Ltd</td>\n",
       "      <td>Distributor</td>\n",
       "      <td>Beckfield Crescent  G33 1ST</td>\n",
       "      <td>80149978</td>\n",
       "      <td>8972623</td>\n",
       "    </tr>\n",
       "    <tr>\n",
       "      <th>162</th>\n",
       "      <td>8983088324</td>\n",
       "      <td>AsstrA</td>\n",
       "      <td>Distributor</td>\n",
       "      <td>Bemersyde Avenue  G43 1DA</td>\n",
       "      <td>85308012</td>\n",
       "      <td>8337979</td>\n",
       "    </tr>\n",
       "  </tbody>\n",
       "</table>\n",
       "<p>163 rows × 6 columns</p>\n",
       "</div>"
      ],
      "text/plain": [
       "     Client.Number                               Name.of.business  \\\n",
       "0       2947789641                                  Expotrans Srl   \n",
       "1       2947790097  Future Electronics Inc (Distribution) Pte Ltd   \n",
       "2       8483378396      Frontline Distribution & Services Company   \n",
       "3        280670842                       FFW Distribution Company   \n",
       "4       6895927485                               G Q Distributors   \n",
       "..             ...                                            ...   \n",
       "158     9787421007                Powermatic Distribution Pte Ltd   \n",
       "159     9373790709                                          SENKO   \n",
       "160     5851010535                Rapid-Tech Distribution Pte Ltd   \n",
       "161     4037644740                 Quickmail Distribution Pte Ltd   \n",
       "162     8983088324                                         AsstrA   \n",
       "\n",
       "    Type.of.Business                      Address     phone      fax  \n",
       "0        Distributor         Abbey Drive  G14 9JP  87843596  8706576  \n",
       "1        Distributor     Abbeycraig Road  G34 0DN  83631690  8629230  \n",
       "2        Distributor   Abbeygreen Street  G34 0JH  80206596  8905382  \n",
       "3        Distributor    Abbeyhill Street  G32 6HP  86426524  8615848  \n",
       "4        Distributor        Abbot Street  G41 3XE  85405106  8722470  \n",
       "..               ...                          ...       ...      ...  \n",
       "158      Distributor       Barshaw Court  G52 4DX  85708595  8139685  \n",
       "159      Distributor    Bassett Crescent  G13 3JS  80387859  8322663  \n",
       "160      Distributor   Battles Burn View  G32 8HP  80166498  8417144  \n",
       "161      Distributor  Beckfield Crescent  G33 1ST  80149978  8972623  \n",
       "162      Distributor    Bemersyde Avenue  G43 1DA  85308012  8337979  \n",
       "\n",
       "[163 rows x 6 columns]"
      ]
     },
     "execution_count": 5,
     "metadata": {},
     "output_type": "execute_result"
    }
   ],
   "source": [
    "dfb"
   ]
  },
  {
   "cell_type": "code",
   "execution_count": 8,
   "id": "50b431b1",
   "metadata": {},
   "outputs": [
    {
     "data": {
      "text/html": [
       "<div>\n",
       "<style scoped>\n",
       "    .dataframe tbody tr th:only-of-type {\n",
       "        vertical-align: middle;\n",
       "    }\n",
       "\n",
       "    .dataframe tbody tr th {\n",
       "        vertical-align: top;\n",
       "    }\n",
       "\n",
       "    .dataframe thead th {\n",
       "        text-align: right;\n",
       "    }\n",
       "</style>\n",
       "<table border=\"1\" class=\"dataframe\">\n",
       "  <thead>\n",
       "    <tr style=\"text-align: right;\">\n",
       "      <th></th>\n",
       "      <th>ClientNumber</th>\n",
       "      <th>firstName</th>\n",
       "      <th>lastName</th>\n",
       "      <th>HomeAddress</th>\n",
       "      <th>phoneNumber</th>\n",
       "      <th>DOB</th>\n",
       "      <th>DrivingLicenseNumber</th>\n",
       "    </tr>\n",
       "  </thead>\n",
       "  <tbody>\n",
       "    <tr>\n",
       "      <th>0</th>\n",
       "      <td>1</td>\n",
       "      <td>Melisse</td>\n",
       "      <td>Lush</td>\n",
       "      <td>Ballindalloch Drive, G31 3DL</td>\n",
       "      <td>7078071238</td>\n",
       "      <td>19/12/12</td>\n",
       "      <td>8513777951</td>\n",
       "    </tr>\n",
       "    <tr>\n",
       "      <th>1</th>\n",
       "      <td>2</td>\n",
       "      <td>Tannie</td>\n",
       "      <td>Charker</td>\n",
       "      <td>Balloch Gardens, G52 1JQ</td>\n",
       "      <td>1297404912</td>\n",
       "      <td>2/6/1979</td>\n",
       "      <td>5296255968</td>\n",
       "    </tr>\n",
       "    <tr>\n",
       "      <th>2</th>\n",
       "      <td>3</td>\n",
       "      <td>Moss</td>\n",
       "      <td>Balhatchet</td>\n",
       "      <td>Ballochmyle Crescent, G53 7GJ</td>\n",
       "      <td>8685549958</td>\n",
       "      <td>14/2/93</td>\n",
       "      <td>1990659535</td>\n",
       "    </tr>\n",
       "    <tr>\n",
       "      <th>3</th>\n",
       "      <td>4</td>\n",
       "      <td>Nata</td>\n",
       "      <td>Wolfe</td>\n",
       "      <td>Ballochmyle Drive, G53 7GN</td>\n",
       "      <td>2302378008</td>\n",
       "      <td>6/9/2016</td>\n",
       "      <td>2837170968</td>\n",
       "    </tr>\n",
       "    <tr>\n",
       "      <th>4</th>\n",
       "      <td>5</td>\n",
       "      <td>Nonna</td>\n",
       "      <td>Listone</td>\n",
       "      <td>Ballochmyle Gardens, G53 7GL</td>\n",
       "      <td>3519920142</td>\n",
       "      <td>14/3/90</td>\n",
       "      <td>5550212706</td>\n",
       "    </tr>\n",
       "    <tr>\n",
       "      <th>...</th>\n",
       "      <td>...</td>\n",
       "      <td>...</td>\n",
       "      <td>...</td>\n",
       "      <td>...</td>\n",
       "      <td>...</td>\n",
       "      <td>...</td>\n",
       "      <td>...</td>\n",
       "    </tr>\n",
       "    <tr>\n",
       "      <th>345</th>\n",
       "      <td>346</td>\n",
       "      <td>Leonora</td>\n",
       "      <td>Cornbill</td>\n",
       "      <td>Boyndie Street, G34 9JE</td>\n",
       "      <td>9493834284</td>\n",
       "      <td>18/2/68</td>\n",
       "      <td>5290418016</td>\n",
       "    </tr>\n",
       "    <tr>\n",
       "      <th>346</th>\n",
       "      <td>347</td>\n",
       "      <td>Davina</td>\n",
       "      <td>Rittmeyer</td>\n",
       "      <td>Bracken Street, G22 6LY</td>\n",
       "      <td>8496788179</td>\n",
       "      <td>11/11/1960</td>\n",
       "      <td>8031097364</td>\n",
       "    </tr>\n",
       "    <tr>\n",
       "      <th>347</th>\n",
       "      <td>348</td>\n",
       "      <td>Bibi</td>\n",
       "      <td>Ernke</td>\n",
       "      <td>Brackla Avenue, G13 4HZ</td>\n",
       "      <td>6646775467</td>\n",
       "      <td>11/3/1984</td>\n",
       "      <td>6630077059</td>\n",
       "    </tr>\n",
       "    <tr>\n",
       "      <th>348</th>\n",
       "      <td>349</td>\n",
       "      <td>Quentin</td>\n",
       "      <td>Mossbee</td>\n",
       "      <td>Bradan Avenue, G13 4HU</td>\n",
       "      <td>7866010047</td>\n",
       "      <td>26/11/90</td>\n",
       "      <td>9126095076</td>\n",
       "    </tr>\n",
       "    <tr>\n",
       "      <th>349</th>\n",
       "      <td>350</td>\n",
       "      <td>Antoine</td>\n",
       "      <td>Treadgall</td>\n",
       "      <td>Bradfield Avenue, G12 0QH</td>\n",
       "      <td>8963728530</td>\n",
       "      <td>15/11/71</td>\n",
       "      <td>9922322528</td>\n",
       "    </tr>\n",
       "  </tbody>\n",
       "</table>\n",
       "<p>350 rows × 7 columns</p>\n",
       "</div>"
      ],
      "text/plain": [
       "     ClientNumber firstName    lastName                    HomeAddress  \\\n",
       "0               1   Melisse        Lush   Ballindalloch Drive, G31 3DL   \n",
       "1               2    Tannie     Charker       Balloch Gardens, G52 1JQ   \n",
       "2               3      Moss  Balhatchet  Ballochmyle Crescent, G53 7GJ   \n",
       "3               4      Nata       Wolfe     Ballochmyle Drive, G53 7GN   \n",
       "4               5     Nonna     Listone   Ballochmyle Gardens, G53 7GL   \n",
       "..            ...       ...         ...                            ...   \n",
       "345           346   Leonora    Cornbill        Boyndie Street, G34 9JE   \n",
       "346           347    Davina   Rittmeyer        Bracken Street, G22 6LY   \n",
       "347           348      Bibi       Ernke        Brackla Avenue, G13 4HZ   \n",
       "348           349   Quentin     Mossbee         Bradan Avenue, G13 4HU   \n",
       "349           350   Antoine   Treadgall      Bradfield Avenue, G12 0QH   \n",
       "\n",
       "     phoneNumber         DOB  DrivingLicenseNumber  \n",
       "0     7078071238    19/12/12            8513777951  \n",
       "1     1297404912    2/6/1979            5296255968  \n",
       "2     8685549958     14/2/93            1990659535  \n",
       "3     2302378008    6/9/2016            2837170968  \n",
       "4     3519920142     14/3/90            5550212706  \n",
       "..           ...         ...                   ...  \n",
       "345   9493834284     18/2/68            5290418016  \n",
       "346   8496788179  11/11/1960            8031097364  \n",
       "347   6646775467   11/3/1984            6630077059  \n",
       "348   7866010047    26/11/90            9126095076  \n",
       "349   8963728530    15/11/71            9922322528  \n",
       "\n",
       "[350 rows x 7 columns]"
      ]
     },
     "execution_count": 8,
     "metadata": {},
     "output_type": "execute_result"
    }
   ],
   "source": [
    "dfp"
   ]
  },
  {
   "cell_type": "code",
   "execution_count": 14,
   "id": "9b955a6b",
   "metadata": {},
   "outputs": [],
   "source": [
    "start = datetime.datetime(1958, 2, 11)\n",
    "end = datetime.datetime(2001, 2, 10)\n",
    "dfp['DOB'] = [start + datetime.timedelta(days=random.randint(0, 15695)) for _ in range(350)]"
   ]
  },
  {
   "cell_type": "code",
   "execution_count": 16,
   "id": "752caf24",
   "metadata": {},
   "outputs": [
    {
     "data": {
      "text/html": [
       "<div>\n",
       "<style scoped>\n",
       "    .dataframe tbody tr th:only-of-type {\n",
       "        vertical-align: middle;\n",
       "    }\n",
       "\n",
       "    .dataframe tbody tr th {\n",
       "        vertical-align: top;\n",
       "    }\n",
       "\n",
       "    .dataframe thead th {\n",
       "        text-align: right;\n",
       "    }\n",
       "</style>\n",
       "<table border=\"1\" class=\"dataframe\">\n",
       "  <thead>\n",
       "    <tr style=\"text-align: right;\">\n",
       "      <th></th>\n",
       "      <th>ClientNumber</th>\n",
       "      <th>firstName</th>\n",
       "      <th>lastName</th>\n",
       "      <th>HomeAddress</th>\n",
       "      <th>phoneNumber</th>\n",
       "      <th>DOB</th>\n",
       "      <th>DrivingLicenseNumber</th>\n",
       "    </tr>\n",
       "  </thead>\n",
       "  <tbody>\n",
       "    <tr>\n",
       "      <th>0</th>\n",
       "      <td>1</td>\n",
       "      <td>Melisse</td>\n",
       "      <td>Lush</td>\n",
       "      <td>Ballindalloch Drive, G31 3DL</td>\n",
       "      <td>7078071238</td>\n",
       "      <td>1969-09-29</td>\n",
       "      <td>8513777951</td>\n",
       "    </tr>\n",
       "    <tr>\n",
       "      <th>1</th>\n",
       "      <td>2</td>\n",
       "      <td>Tannie</td>\n",
       "      <td>Charker</td>\n",
       "      <td>Balloch Gardens, G52 1JQ</td>\n",
       "      <td>1297404912</td>\n",
       "      <td>1981-07-18</td>\n",
       "      <td>5296255968</td>\n",
       "    </tr>\n",
       "    <tr>\n",
       "      <th>2</th>\n",
       "      <td>3</td>\n",
       "      <td>Moss</td>\n",
       "      <td>Balhatchet</td>\n",
       "      <td>Ballochmyle Crescent, G53 7GJ</td>\n",
       "      <td>8685549958</td>\n",
       "      <td>1981-05-22</td>\n",
       "      <td>1990659535</td>\n",
       "    </tr>\n",
       "    <tr>\n",
       "      <th>3</th>\n",
       "      <td>4</td>\n",
       "      <td>Nata</td>\n",
       "      <td>Wolfe</td>\n",
       "      <td>Ballochmyle Drive, G53 7GN</td>\n",
       "      <td>2302378008</td>\n",
       "      <td>1977-12-17</td>\n",
       "      <td>2837170968</td>\n",
       "    </tr>\n",
       "    <tr>\n",
       "      <th>4</th>\n",
       "      <td>5</td>\n",
       "      <td>Nonna</td>\n",
       "      <td>Listone</td>\n",
       "      <td>Ballochmyle Gardens, G53 7GL</td>\n",
       "      <td>3519920142</td>\n",
       "      <td>1963-06-10</td>\n",
       "      <td>5550212706</td>\n",
       "    </tr>\n",
       "    <tr>\n",
       "      <th>...</th>\n",
       "      <td>...</td>\n",
       "      <td>...</td>\n",
       "      <td>...</td>\n",
       "      <td>...</td>\n",
       "      <td>...</td>\n",
       "      <td>...</td>\n",
       "      <td>...</td>\n",
       "    </tr>\n",
       "    <tr>\n",
       "      <th>345</th>\n",
       "      <td>346</td>\n",
       "      <td>Leonora</td>\n",
       "      <td>Cornbill</td>\n",
       "      <td>Boyndie Street, G34 9JE</td>\n",
       "      <td>9493834284</td>\n",
       "      <td>1968-04-23</td>\n",
       "      <td>5290418016</td>\n",
       "    </tr>\n",
       "    <tr>\n",
       "      <th>346</th>\n",
       "      <td>347</td>\n",
       "      <td>Davina</td>\n",
       "      <td>Rittmeyer</td>\n",
       "      <td>Bracken Street, G22 6LY</td>\n",
       "      <td>8496788179</td>\n",
       "      <td>1958-07-23</td>\n",
       "      <td>8031097364</td>\n",
       "    </tr>\n",
       "    <tr>\n",
       "      <th>347</th>\n",
       "      <td>348</td>\n",
       "      <td>Bibi</td>\n",
       "      <td>Ernke</td>\n",
       "      <td>Brackla Avenue, G13 4HZ</td>\n",
       "      <td>6646775467</td>\n",
       "      <td>1978-02-14</td>\n",
       "      <td>6630077059</td>\n",
       "    </tr>\n",
       "    <tr>\n",
       "      <th>348</th>\n",
       "      <td>349</td>\n",
       "      <td>Quentin</td>\n",
       "      <td>Mossbee</td>\n",
       "      <td>Bradan Avenue, G13 4HU</td>\n",
       "      <td>7866010047</td>\n",
       "      <td>1998-02-17</td>\n",
       "      <td>9126095076</td>\n",
       "    </tr>\n",
       "    <tr>\n",
       "      <th>349</th>\n",
       "      <td>350</td>\n",
       "      <td>Antoine</td>\n",
       "      <td>Treadgall</td>\n",
       "      <td>Bradfield Avenue, G12 0QH</td>\n",
       "      <td>8963728530</td>\n",
       "      <td>1982-09-22</td>\n",
       "      <td>9922322528</td>\n",
       "    </tr>\n",
       "  </tbody>\n",
       "</table>\n",
       "<p>350 rows × 7 columns</p>\n",
       "</div>"
      ],
      "text/plain": [
       "     ClientNumber firstName    lastName                    HomeAddress  \\\n",
       "0               1   Melisse        Lush   Ballindalloch Drive, G31 3DL   \n",
       "1               2    Tannie     Charker       Balloch Gardens, G52 1JQ   \n",
       "2               3      Moss  Balhatchet  Ballochmyle Crescent, G53 7GJ   \n",
       "3               4      Nata       Wolfe     Ballochmyle Drive, G53 7GN   \n",
       "4               5     Nonna     Listone   Ballochmyle Gardens, G53 7GL   \n",
       "..            ...       ...         ...                            ...   \n",
       "345           346   Leonora    Cornbill        Boyndie Street, G34 9JE   \n",
       "346           347    Davina   Rittmeyer        Bracken Street, G22 6LY   \n",
       "347           348      Bibi       Ernke        Brackla Avenue, G13 4HZ   \n",
       "348           349   Quentin     Mossbee         Bradan Avenue, G13 4HU   \n",
       "349           350   Antoine   Treadgall      Bradfield Avenue, G12 0QH   \n",
       "\n",
       "     phoneNumber        DOB  DrivingLicenseNumber  \n",
       "0     7078071238 1969-09-29            8513777951  \n",
       "1     1297404912 1981-07-18            5296255968  \n",
       "2     8685549958 1981-05-22            1990659535  \n",
       "3     2302378008 1977-12-17            2837170968  \n",
       "4     3519920142 1963-06-10            5550212706  \n",
       "..           ...        ...                   ...  \n",
       "345   9493834284 1968-04-23            5290418016  \n",
       "346   8496788179 1958-07-23            8031097364  \n",
       "347   6646775467 1978-02-14            6630077059  \n",
       "348   7866010047 1998-02-17            9126095076  \n",
       "349   8963728530 1982-09-22            9922322528  \n",
       "\n",
       "[350 rows x 7 columns]"
      ]
     },
     "execution_count": 16,
     "metadata": {},
     "output_type": "execute_result"
    }
   ],
   "source": [
    "dfp"
   ]
  },
  {
   "cell_type": "code",
   "execution_count": 17,
   "id": "97cf0d1f",
   "metadata": {},
   "outputs": [],
   "source": [
    "dfp.to_csv('personal.csv')"
   ]
  },
  {
   "cell_type": "markdown",
   "id": "97cbc0be",
   "metadata": {},
   "source": [
    "## mileage"
   ]
  },
  {
   "cell_type": "code",
   "execution_count": 20,
   "id": "5b41924c",
   "metadata": {},
   "outputs": [],
   "source": [
    "regnum = dfh.VehicleRegistrationNumber"
   ]
  },
  {
   "cell_type": "code",
   "execution_count": 23,
   "id": "78a316d0",
   "metadata": {},
   "outputs": [],
   "source": [
    "rows = 300\n",
    "columns = 5\n",
    "\n",
    "dfm = pd.DataFrame(index=range(rows), columns=range(columns))"
   ]
  },
  {
   "cell_type": "code",
   "execution_count": 25,
   "id": "b08e3db6",
   "metadata": {},
   "outputs": [],
   "source": [
    "dfm.columns = ['MileageRegNum', 'VehicleRegNum', 'HireNum', 'Mileage', 'Date']"
   ]
  },
  {
   "cell_type": "code",
   "execution_count": 27,
   "id": "1dd06bbf",
   "metadata": {},
   "outputs": [],
   "source": [
    "dfm.VehicleRegNum = [random.choice(regnum) for _ in range(300)]"
   ]
  },
  {
   "cell_type": "code",
   "execution_count": 28,
   "id": "7705839d",
   "metadata": {},
   "outputs": [],
   "source": [
    "dfm.HireNum = [random.randint(1,600) for _ in range(300)]"
   ]
  },
  {
   "cell_type": "code",
   "execution_count": 30,
   "id": "cc79f4ff",
   "metadata": {},
   "outputs": [],
   "source": [
    "dfm.Mileage = [random.randint(0,10000) for _ in range(300)]"
   ]
  },
  {
   "cell_type": "code",
   "execution_count": 35,
   "id": "af05c0dd",
   "metadata": {},
   "outputs": [],
   "source": [
    "dfm.Date = dates"
   ]
  },
  {
   "cell_type": "code",
   "execution_count": 34,
   "id": "33b146a6",
   "metadata": {},
   "outputs": [],
   "source": [
    "dates = pd.read_csv('MOCK_DATA.csv')['Date']"
   ]
  },
  {
   "cell_type": "code",
   "execution_count": 38,
   "id": "2f70420c",
   "metadata": {},
   "outputs": [],
   "source": [
    "dfm.to_csv('mileage.csv', index = False)"
   ]
  },
  {
   "cell_type": "markdown",
   "id": "fc11ec39",
   "metadata": {},
   "source": [
    "## Receipt"
   ]
  },
  {
   "cell_type": "code",
   "execution_count": 39,
   "id": "824fa885",
   "metadata": {},
   "outputs": [
    {
     "data": {
      "text/html": [
       "<div>\n",
       "<style scoped>\n",
       "    .dataframe tbody tr th:only-of-type {\n",
       "        vertical-align: middle;\n",
       "    }\n",
       "\n",
       "    .dataframe tbody tr th {\n",
       "        vertical-align: top;\n",
       "    }\n",
       "\n",
       "    .dataframe thead th {\n",
       "        text-align: right;\n",
       "    }\n",
       "</style>\n",
       "<table border=\"1\" class=\"dataframe\">\n",
       "  <thead>\n",
       "    <tr style=\"text-align: right;\">\n",
       "      <th></th>\n",
       "      <th>HireNumber</th>\n",
       "      <th>StartDate</th>\n",
       "      <th>TerminationDate</th>\n",
       "      <th>ClientNumber</th>\n",
       "      <th>VehicleRegistrationNumber</th>\n",
       "      <th>StaffNumber</th>\n",
       "    </tr>\n",
       "  </thead>\n",
       "  <tbody>\n",
       "    <tr>\n",
       "      <th>0</th>\n",
       "      <td>1</td>\n",
       "      <td>16/1/18</td>\n",
       "      <td>2018-07-02</td>\n",
       "      <td>NaN</td>\n",
       "      <td>RRUW6S</td>\n",
       "      <td>141</td>\n",
       "    </tr>\n",
       "    <tr>\n",
       "      <th>1</th>\n",
       "      <td>2</td>\n",
       "      <td>19/1/18</td>\n",
       "      <td>2018-07-02</td>\n",
       "      <td>NaN</td>\n",
       "      <td>VZFZGN</td>\n",
       "      <td>68</td>\n",
       "    </tr>\n",
       "    <tr>\n",
       "      <th>2</th>\n",
       "      <td>3</td>\n",
       "      <td>19/1/18</td>\n",
       "      <td>2018-07-02</td>\n",
       "      <td>NaN</td>\n",
       "      <td>K9XYEY</td>\n",
       "      <td>320</td>\n",
       "    </tr>\n",
       "    <tr>\n",
       "      <th>3</th>\n",
       "      <td>4</td>\n",
       "      <td>22/1/18</td>\n",
       "      <td>2018-08-02</td>\n",
       "      <td>NaN</td>\n",
       "      <td>YGQBF9</td>\n",
       "      <td>66</td>\n",
       "    </tr>\n",
       "    <tr>\n",
       "      <th>4</th>\n",
       "      <td>5</td>\n",
       "      <td>24/1/18</td>\n",
       "      <td>2018-08-02</td>\n",
       "      <td>NaN</td>\n",
       "      <td>CQALJ1</td>\n",
       "      <td>232</td>\n",
       "    </tr>\n",
       "    <tr>\n",
       "      <th>...</th>\n",
       "      <td>...</td>\n",
       "      <td>...</td>\n",
       "      <td>...</td>\n",
       "      <td>...</td>\n",
       "      <td>...</td>\n",
       "      <td>...</td>\n",
       "    </tr>\n",
       "    <tr>\n",
       "      <th>595</th>\n",
       "      <td>596</td>\n",
       "      <td>24/5/18</td>\n",
       "      <td>28/5/18</td>\n",
       "      <td>NaN</td>\n",
       "      <td>RF71P3</td>\n",
       "      <td>250</td>\n",
       "    </tr>\n",
       "    <tr>\n",
       "      <th>596</th>\n",
       "      <td>597</td>\n",
       "      <td>24/5/18</td>\n",
       "      <td>28/5/18</td>\n",
       "      <td>NaN</td>\n",
       "      <td>WNA70X</td>\n",
       "      <td>123</td>\n",
       "    </tr>\n",
       "    <tr>\n",
       "      <th>597</th>\n",
       "      <td>598</td>\n",
       "      <td>24/5/18</td>\n",
       "      <td>29/5/18</td>\n",
       "      <td>NaN</td>\n",
       "      <td>IJDN1N</td>\n",
       "      <td>293</td>\n",
       "    </tr>\n",
       "    <tr>\n",
       "      <th>598</th>\n",
       "      <td>599</td>\n",
       "      <td>25/5/18</td>\n",
       "      <td>29/5/18</td>\n",
       "      <td>NaN</td>\n",
       "      <td>W5TJXT</td>\n",
       "      <td>247</td>\n",
       "    </tr>\n",
       "    <tr>\n",
       "      <th>599</th>\n",
       "      <td>600</td>\n",
       "      <td>25/5/18</td>\n",
       "      <td>29/5/18</td>\n",
       "      <td>NaN</td>\n",
       "      <td>R6IO8J</td>\n",
       "      <td>304</td>\n",
       "    </tr>\n",
       "  </tbody>\n",
       "</table>\n",
       "<p>600 rows × 6 columns</p>\n",
       "</div>"
      ],
      "text/plain": [
       "     HireNumber StartDate TerminationDate  ClientNumber  \\\n",
       "0             1   16/1/18      2018-07-02           NaN   \n",
       "1             2   19/1/18      2018-07-02           NaN   \n",
       "2             3   19/1/18      2018-07-02           NaN   \n",
       "3             4   22/1/18      2018-08-02           NaN   \n",
       "4             5   24/1/18      2018-08-02           NaN   \n",
       "..          ...       ...             ...           ...   \n",
       "595         596   24/5/18         28/5/18           NaN   \n",
       "596         597   24/5/18         28/5/18           NaN   \n",
       "597         598   24/5/18         29/5/18           NaN   \n",
       "598         599   25/5/18         29/5/18           NaN   \n",
       "599         600   25/5/18         29/5/18           NaN   \n",
       "\n",
       "    VehicleRegistrationNumber  StaffNumber  \n",
       "0                      RRUW6S          141  \n",
       "1                      VZFZGN           68  \n",
       "2                      K9XYEY          320  \n",
       "3                      YGQBF9           66  \n",
       "4                      CQALJ1          232  \n",
       "..                        ...          ...  \n",
       "595                    RF71P3          250  \n",
       "596                    WNA70X          123  \n",
       "597                    IJDN1N          293  \n",
       "598                    W5TJXT          247  \n",
       "599                    R6IO8J          304  \n",
       "\n",
       "[600 rows x 6 columns]"
      ]
     },
     "execution_count": 39,
     "metadata": {},
     "output_type": "execute_result"
    }
   ],
   "source": [
    "dfh"
   ]
  },
  {
   "cell_type": "code",
   "execution_count": 40,
   "id": "1cf7b72a",
   "metadata": {},
   "outputs": [],
   "source": [
    "dfh.ClientNumber = [random.randint(1,513) for _ in range(600)]"
   ]
  },
  {
   "cell_type": "code",
   "execution_count": 41,
   "id": "d2e5d4c4",
   "metadata": {},
   "outputs": [],
   "source": [
    "dfh.to_csv('hires_final.csv')"
   ]
  },
  {
   "cell_type": "code",
   "execution_count": 47,
   "id": "6341e33f",
   "metadata": {},
   "outputs": [],
   "source": [
    "rows = 200\n",
    "columns = 6\n",
    "\n",
    "dfr = pd.DataFrame(index=range(rows), columns=range(columns))"
   ]
  },
  {
   "cell_type": "code",
   "execution_count": 48,
   "id": "89979357",
   "metadata": {},
   "outputs": [],
   "source": [
    "dfr.columns = ['ReceiptNum', 'HireNum', 'FaultReportNum', 'AmountPaid', 'DatePaid', 'PaymentMethod']"
   ]
  },
  {
   "cell_type": "code",
   "execution_count": 51,
   "id": "ee2b86d4",
   "metadata": {},
   "outputs": [],
   "source": [
    "dfr.HireNum = [random.randint(1,500) for _ in range(200)]"
   ]
  },
  {
   "cell_type": "code",
   "execution_count": 52,
   "id": "abf1fd96",
   "metadata": {},
   "outputs": [],
   "source": [
    "dfr.FaultReportNum = [random.randint(1,500) for _ in range(200)]"
   ]
  },
  {
   "cell_type": "code",
   "execution_count": 54,
   "id": "05966057",
   "metadata": {},
   "outputs": [],
   "source": [
    "dfr.AmountPaid = [random.randint(300,2000) for _ in range(200)]"
   ]
  },
  {
   "cell_type": "code",
   "execution_count": 56,
   "id": "e47516f6",
   "metadata": {},
   "outputs": [],
   "source": [
    "dfr.DatePaid = [random.choice(dates) for _ in range(200)]"
   ]
  },
  {
   "cell_type": "code",
   "execution_count": 59,
   "id": "c8acec20",
   "metadata": {},
   "outputs": [],
   "source": [
    "method = ['Cash', 'Credit', 'Debit', 'Paypal']"
   ]
  },
  {
   "cell_type": "code",
   "execution_count": 60,
   "id": "2b78d2ae",
   "metadata": {},
   "outputs": [],
   "source": [
    "dfr.PaymentMethod = [random.choice(method) for _ in range(200)]"
   ]
  },
  {
   "cell_type": "code",
   "execution_count": 62,
   "id": "1b201b73",
   "metadata": {},
   "outputs": [],
   "source": [
    "dfr.to_csv('receipts_final.csv', index = False)"
   ]
  },
  {
   "cell_type": "code",
   "execution_count": null,
   "id": "ef3efe5a",
   "metadata": {},
   "outputs": [],
   "source": []
  }
 ],
 "metadata": {
  "kernelspec": {
   "display_name": "Python 3 (ipykernel)",
   "language": "python",
   "name": "python3"
  },
  "language_info": {
   "codemirror_mode": {
    "name": "ipython",
    "version": 3
   },
   "file_extension": ".py",
   "mimetype": "text/x-python",
   "name": "python",
   "nbconvert_exporter": "python",
   "pygments_lexer": "ipython3",
   "version": "3.9.13"
  }
 },
 "nbformat": 4,
 "nbformat_minor": 5
}
